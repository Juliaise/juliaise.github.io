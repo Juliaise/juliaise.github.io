{
 "cells": [
  {
   "cell_type": "markdown",
   "id": "fddb6478",
   "metadata": {
    "slideshow": {
     "slide_type": "slide"
    }
   },
   "source": [
    "# Julia - Functions\n",
    "\n",
    "James Cormack - 3 September 2021"
   ]
  },
  {
   "cell_type": "code",
   "execution_count": 1,
   "id": "f1da97cb",
   "metadata": {
    "slideshow": {
     "slide_type": "subslide"
    }
   },
   "outputs": [
    {
     "data": {
      "text/plain": [
       "multiply (generic function with 1 method)"
      ]
     },
     "execution_count": 1,
     "metadata": {},
     "output_type": "execute_result"
    }
   ],
   "source": [
    "# classical form\n",
    "\n",
    "function multiply(x, y)\n",
    "    return x * y\n",
    "end"
   ]
  },
  {
   "cell_type": "code",
   "execution_count": 2,
   "id": "9a18bb1b",
   "metadata": {},
   "outputs": [
    {
     "data": {
      "text/plain": [
       "693"
      ]
     },
     "execution_count": 2,
     "metadata": {},
     "output_type": "execute_result"
    }
   ],
   "source": [
    "# Calling a function\n",
    "\n",
    "multiply(1,2)\n",
    "\n",
    "#.. other code ...\n",
    "\n",
    "multiply(3,2)\n",
    "\n",
    "#.. more code ...\n",
    "\n",
    "multiply(33,21)"
   ]
  },
  {
   "cell_type": "code",
   "execution_count": 3,
   "id": "03dfa6b1",
   "metadata": {},
   "outputs": [
    {
     "data": {
      "text/plain": [
       "compact_function (generic function with 1 method)"
      ]
     },
     "execution_count": 3,
     "metadata": {},
     "output_type": "execute_result"
    }
   ],
   "source": [
    " # Compact form\n",
    "compact_function(x, y) = x * y"
   ]
  },
  {
   "cell_type": "code",
   "execution_count": 4,
   "id": "03a39577",
   "metadata": {},
   "outputs": [
    {
     "data": {
      "text/plain": [
       "8"
      ]
     },
     "execution_count": 4,
     "metadata": {},
     "output_type": "execute_result"
    }
   ],
   "source": [
    "compact_function(2,4)"
   ]
  },
  {
   "cell_type": "code",
   "execution_count": 9,
   "id": "46591ac2",
   "metadata": {},
   "outputs": [
    {
     "data": {
      "text/plain": [
       "#9 (generic function with 1 method)"
      ]
     },
     "execution_count": 9,
     "metadata": {},
     "output_type": "execute_result"
    }
   ],
   "source": [
    "# Anonymous (lambda) functions\n",
    "#  Functions without a name. \n",
    "#  \n",
    "# Functions are first class objects so you can pass functions as objects to other functions.\n",
    "\n",
    "# Definition\n",
    "x -> x + 1"
   ]
  },
  {
   "cell_type": "code",
   "execution_count": null,
   "id": "d248cd30",
   "metadata": {},
   "outputs": [],
   "source": [
    "# Anon function usage...\n",
    "\n",
    "# In a function (map)\n",
    "map(x -> x + 1, [1,2,3,4,5,6])"
   ]
  },
  {
   "cell_type": "code",
   "execution_count": null,
   "id": "0627e852",
   "metadata": {},
   "outputs": [],
   "source": [
    "# Assign to a variable\n",
    "anon_func = x -> x + 1\n",
    "\n",
    "# Use the variable\n",
    "anon_func(41)"
   ]
  },
  {
   "cell_type": "code",
   "execution_count": null,
   "id": "aafe4936",
   "metadata": {},
   "outputs": [],
   "source": [
    "# Do-Block (another way to pass a function block (if statement) to another function (map) --> more readable)\n",
    "\n",
    "map([1,2,3,4]) do x\n",
    "    if x == 1\n",
    "        return \"one\"\n",
    "    elseif x == 2\n",
    "        return \"two\"\n",
    "    else\n",
    "        return \"not one or two\"\n",
    "    end\n",
    "end"
   ]
  },
  {
   "cell_type": "code",
   "execution_count": 10,
   "id": "8e3f806d",
   "metadata": {},
   "outputs": [
    {
     "name": "stdout",
     "output_type": "stream",
     "text": [
      "NTuple{5, Int64}\n"
     ]
    }
   ],
   "source": [
    "# Varargs Functions (Functions that take a variable number of arguments)\n",
    "#  Argument (z...) is interpreted as a tuple\n",
    "\n",
    "# Definition\n",
    "function var_func(x, y, z...)\n",
    "    println(typeof(z))\n",
    "end\n",
    "\n",
    "# Usage\n",
    "var_func(1,2,3,4,5,6,7)\n"
   ]
  },
  {
   "cell_type": "code",
   "execution_count": null,
   "id": "4f3cd375",
   "metadata": {},
   "outputs": [],
   "source": [
    "# Named argument in functions (used a semicolon (;) to indicate where positional parameters end)\n",
    "\n",
    "# Definition (notice this semicolon)\n",
    "function named_func(x, y; z)\n",
    "    println(\"Named var z is \", z)\n",
    "end\n",
    "\n",
    "# Incorrect usage\n",
    "#named_func(1,2,3)\n",
    "\n",
    "# Correct usage using named var\n",
    "named_func(1,2, z=3)"
   ]
  },
  {
   "cell_type": "code",
   "execution_count": null,
   "id": "a442c90d",
   "metadata": {},
   "outputs": [],
   "source": [
    "# Optional/Default arguments ( set the argument to its default value in definiton to make it optional)\n",
    "\n",
    "# Definition \n",
    "function optional_func(x, y, z=1)\n",
    "    println(\"Optional var z is \", z)\n",
    "end\n",
    "\n",
    "# Can use all three args\n",
    "optional_func(1,2,3)\n",
    "\n",
    "# Can drop the optional arg. It then uses the default value.\n",
    "optional_func(1,2)"
   ]
  },
  {
   "cell_type": "code",
   "execution_count": null,
   "id": "5309bf2b",
   "metadata": {},
   "outputs": [],
   "source": [
    "# Specifying types (can restrict the type of arguments otherwise dynamic typing will accect Any type which may not be appropriate )\n",
    "\n",
    "# Definition \n",
    "function spec_func(x, y, z::Int64)\n",
    "    println(\"Int64 var z is \", z)\n",
    "end\n",
    "\n",
    "# Incorrect usage by passing an incorrect type (not dynamic)\n",
    "#spec_func(3.3, 1.1, 4.3)\n",
    "\n",
    "# Correct usage by using the defined type of z\n",
    "spec_func(3.3, 1.1, 4)"
   ]
  },
  {
   "cell_type": "markdown",
   "id": "b6698256",
   "metadata": {},
   "source": [
    "##  Multiple dispatch\n",
    "\n",
    "When there are multiple methods for the same function name then the method that is chosen is based on the method signature of the calling function.\n",
    "\n",
    "For example, if the 2 methods are defined below...\n",
    "```\n",
    "function myfunc(x::Float64, y ) #1\n",
    "function myfunc(x, y::Float64 ) #2\n",
    "```\n",
    "\n",
    "The signature is defined by the number and type of the arguments. So if the following function is called...\n",
    "```\n",
    "myfunc(2, 3.4)\n",
    "```\n",
    "... method # 2 will be dispatched."
   ]
  },
  {
   "cell_type": "markdown",
   "id": "381e7529",
   "metadata": {},
   "source": [
    " **Ambiguity**\n",
    "\n",
    "Sometimes there is ambiguity. i.e. Two or more signatures fit the function being called...\n",
    "\n",
    "If the following function is called...\n",
    "```\n",
    "myfunc(2.1, 4.4)\n",
    "```\n",
    "... both method # 1 and # 2 signatures fit.\n",
    "\n",
    "**This creates an error.**\n",
    "\n",
    "This is solved by creating a third method...\n",
    "```\n",
    "function myfunc(x::Float64, y::Float64) #3\n",
    "```\n",
    "\n",
    "The method chosen will always be the most specific. In this case, if you are calling when both<br> arguments are \n",
    "floats then the third (#3), new function will be dispatched."
   ]
  },
  {
   "cell_type": "markdown",
   "id": "cb3dcc05",
   "metadata": {},
   "source": [
    "## Function Composition and Piping\n",
    "\n",
    "Why? --> It can often help make the code more readable. See example at end."
   ]
  },
  {
   "cell_type": "code",
   "execution_count": null,
   "id": "4fe547b5",
   "metadata": {},
   "outputs": [],
   "source": [
    "# Function Composition (using \\circ (tab) = \"∘\")\n",
    "\n",
    "3 + 6"
   ]
  },
  {
   "cell_type": "code",
   "execution_count": null,
   "id": "726c821e",
   "metadata": {},
   "outputs": [],
   "source": [
    "# Another way of writing it as + is just a function\n",
    "+(3,6)"
   ]
  },
  {
   "cell_type": "code",
   "execution_count": null,
   "id": "18951ba9",
   "metadata": {},
   "outputs": [],
   "source": [
    "#combining sqrt with the + function...\n",
    "sqrt(+(3,6))"
   ]
  },
  {
   "cell_type": "code",
   "execution_count": null,
   "id": "ba5f5dca",
   "metadata": {},
   "outputs": [],
   "source": [
    "# Using function composition [ \\circ (tab) = ∘ ] you can combine the two functions in a different way...\n",
    "(sqrt ∘ +)(3,6)"
   ]
  },
  {
   "cell_type": "code",
   "execution_count": null,
   "id": "194c7b5a",
   "metadata": {},
   "outputs": [],
   "source": [
    "# Piping (using \"|>\")\n",
    "\n",
    "(3,6) |> sum |> sqrt"
   ]
  },
  {
   "cell_type": "code",
   "execution_count": 11,
   "id": "56755c04",
   "metadata": {},
   "outputs": [
    {
     "data": {
      "text/plain": [
       "3-element Vector{Char}:\n",
       " 'A': ASCII/Unicode U+0041 (category Lu: Letter, uppercase)\n",
       " 'R': ASCII/Unicode U+0052 (category Lu: Letter, uppercase)\n",
       " 'E': ASCII/Unicode U+0045 (category Lu: Letter, uppercase)"
      ]
     },
     "execution_count": 11,
     "metadata": {},
     "output_type": "execute_result"
    }
   ],
   "source": [
    "# More readable code\n",
    "\n",
    "# This is not as easy to read as...\n",
    "map(x->first(reverse(uppercase(x))), split(\"Julia Beginner Course\"))"
   ]
  },
  {
   "cell_type": "code",
   "execution_count": 12,
   "id": "1caaad12",
   "metadata": {},
   "outputs": [
    {
     "data": {
      "text/plain": [
       "3-element Vector{Char}:\n",
       " 'A': ASCII/Unicode U+0041 (category Lu: Letter, uppercase)\n",
       " 'R': ASCII/Unicode U+0052 (category Lu: Letter, uppercase)\n",
       " 'E': ASCII/Unicode U+0045 (category Lu: Letter, uppercase)"
      ]
     },
     "execution_count": 12,
     "metadata": {},
     "output_type": "execute_result"
    }
   ],
   "source": [
    "# This function composition\n",
    "map(first ∘ reverse ∘ uppercase, split(\"Julia Beginner Course\"))"
   ]
  },
  {
   "cell_type": "markdown",
   "id": "71c4d2f2",
   "metadata": {},
   "source": [
    "## Dot Syntax\n",
    "\n",
    "Allows for vectorising functions using a dot (.) --> Apply the function on all elements of the collection"
   ]
  },
  {
   "cell_type": "code",
   "execution_count": null,
   "id": "c9672a92",
   "metadata": {},
   "outputs": [],
   "source": [
    "rating_vector = [1, 2, 3, 4, 5]\n",
    "\n",
    "function inc(x::Int64)\n",
    "    x * 10\n",
    "end\n",
    " \n",
    "# this wont work but...\n",
    "#@show inc(rating_vector)\n",
    "\n",
    "# using dot syntax the function is applied to each element\n",
    "inc.(rating_vector)"
   ]
  },
  {
   "cell_type": "markdown",
   "id": "341ea2e9",
   "metadata": {},
   "source": [
    "## With Thanks\n",
    "\n",
    "This worksheet closely follows parts of Xavier Morea's \"Julia: Getting Started\" course on Pluralsight. <br>Pluralsight (http://pluralsight.com) is a great resource providing learning on a wide range of skills for developers. <br>I've been a paying member for a number of years. -JC"
   ]
  },
  {
   "cell_type": "code",
   "execution_count": null,
   "id": "61bdb77d",
   "metadata": {},
   "outputs": [],
   "source": []
  }
 ],
 "metadata": {
  "kernelspec": {
   "display_name": "Julia 1.6.1",
   "language": "julia",
   "name": "julia-1.6"
  },
  "language_info": {
   "file_extension": ".jl",
   "mimetype": "application/julia",
   "name": "julia",
   "version": "1.6.2"
  }
 },
 "nbformat": 4,
 "nbformat_minor": 5
}
